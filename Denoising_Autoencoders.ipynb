{
  "nbformat": 4,
  "nbformat_minor": 0,
  "metadata": {
    "colab": {
      "provenance": [],
      "gpuType": "T4",
      "authorship_tag": "ABX9TyPDIQnSmgCBCSoEZ1Wwh1KI",
      "include_colab_link": true
    },
    "kernelspec": {
      "name": "python3",
      "display_name": "Python 3"
    },
    "language_info": {
      "name": "python"
    },
    "accelerator": "GPU"
  },
  "cells": [
    {
      "cell_type": "markdown",
      "metadata": {
        "id": "view-in-github",
        "colab_type": "text"
      },
      "source": [
        "<a href=\"https://colab.research.google.com/github/Ivanrs297/generative-deep-learning-course/blob/main/Denoising_Autoencoders.ipynb\" target=\"_parent\"><img src=\"https://colab.research.google.com/assets/colab-badge.svg\" alt=\"Open In Colab\"/></a>"
      ]
    },
    {
      "cell_type": "code",
      "execution_count": 1,
      "metadata": {
        "id": "FUMYTHXBC52Q"
      },
      "outputs": [],
      "source": [
        "import tensorflow as tf\n",
        "from tensorflow import keras\n",
        "from tensorflow.keras.datasets import mnist\n",
        "from tensorflow.keras.layers import Input, Dense\n",
        "from tensorflow.keras.models import Model"
      ]
    },
    {
      "cell_type": "code",
      "source": [
        "(X_train, y_train), (X_test, y_test) = mnist.load_data()\n",
        "\n",
        "X_train = X_train.astype(\"float32\") / 255\n",
        "X_test = X_test.astype(\"float32\") / 255\n",
        "\n",
        "X_train.shape"
      ],
      "metadata": {
        "colab": {
          "base_uri": "https://localhost:8080/"
        },
        "id": "6jBDyd8sDJ8j",
        "outputId": "d18fa492-98b7-4887-da96-736f6bf4ae57"
      },
      "execution_count": 2,
      "outputs": [
        {
          "output_type": "stream",
          "name": "stdout",
          "text": [
            "Downloading data from https://storage.googleapis.com/tensorflow/tf-keras-datasets/mnist.npz\n",
            "11490434/11490434 [==============================] - 0s 0us/step\n"
          ]
        },
        {
          "output_type": "execute_result",
          "data": {
            "text/plain": [
              "(60000, 28, 28)"
            ]
          },
          "metadata": {},
          "execution_count": 2
        }
      ]
    },
    {
      "cell_type": "code",
      "source": [
        "X_train = X_train.reshape(-1, 784)\n",
        "X_test = X_test.reshape(-1, 784)\n",
        "\n",
        "X_train.shape, X_test.shape"
      ],
      "metadata": {
        "colab": {
          "base_uri": "https://localhost:8080/"
        },
        "id": "G8rGVuxVDW9d",
        "outputId": "3214a867-81db-40a8-96ac-739c0b72ff88"
      },
      "execution_count": 3,
      "outputs": [
        {
          "output_type": "execute_result",
          "data": {
            "text/plain": [
              "((60000, 784), (10000, 784))"
            ]
          },
          "metadata": {},
          "execution_count": 3
        }
      ]
    },
    {
      "cell_type": "markdown",
      "source": [
        "# Model"
      ],
      "metadata": {
        "id": "VMGYNdPODouv"
      }
    },
    {
      "cell_type": "code",
      "source": [
        "encoding_dim = 12\n",
        "\n",
        "input_img = Input(shape = (784, ))\n",
        "encoded = Dense(128, activation = \"relu\")(input_img)\n",
        "encoded = Dense(encoding_dim, activation = \"relu\")(encoded)\n",
        "\n",
        "decoded = Dense(128, activation = \"relu\")(encoded)\n",
        "decoded = Dense(784, activation = \"sigmoid\")(decoded)\n",
        "\n",
        "autoencoder = Model(input_img, decoded)\n"
      ],
      "metadata": {
        "id": "b6hoxGjHDmWQ"
      },
      "execution_count": 4,
      "outputs": []
    },
    {
      "cell_type": "code",
      "source": [
        "encoder = Model(input_img, encoded)\n",
        "\n",
        "decoded_layer1 = autoencoder.layers[-2]\n",
        "decoded_layer2 = autoencoder.layers[-1]\n",
        "encoded_input = Input(shape=(encoding_dim,))\n",
        "decoder = Model(encoded_input, decoded_layer2(decoded_layer1(encoded_input)) )\n"
      ],
      "metadata": {
        "id": "jlK9mNVBE11p"
      },
      "execution_count": 5,
      "outputs": []
    },
    {
      "cell_type": "code",
      "source": [
        "autoencoder.layers"
      ],
      "metadata": {
        "colab": {
          "base_uri": "https://localhost:8080/"
        },
        "id": "Q_0q-kJVG9MX",
        "outputId": "3b92c67b-546e-4ff6-f441-d607789a6cba"
      },
      "execution_count": 8,
      "outputs": [
        {
          "output_type": "execute_result",
          "data": {
            "text/plain": [
              "[<keras.src.engine.input_layer.InputLayer at 0x7949d9aa3640>,\n",
              " <keras.src.layers.core.dense.Dense at 0x7949d9aa1810>,\n",
              " <keras.src.layers.core.dense.Dense at 0x7949dbeaab60>,\n",
              " <keras.src.layers.core.dense.Dense at 0x7949dbeab8e0>,\n",
              " <keras.src.layers.core.dense.Dense at 0x7949dbeaaf80>]"
            ]
          },
          "metadata": {},
          "execution_count": 8
        }
      ]
    },
    {
      "cell_type": "code",
      "source": [
        "autoencoder.compile(optimizer = \"adam\", loss = \"binary_crossentropy\")"
      ],
      "metadata": {
        "id": "xX5eKE2qFo0P"
      },
      "execution_count": 6,
      "outputs": []
    },
    {
      "cell_type": "code",
      "source": [
        "autoencoder.fit(\n",
        "    X_train,\n",
        "    X_train,\n",
        "    epochs = 5,\n",
        "    validation_data = (X_test, X_test)\n",
        ")"
      ],
      "metadata": {
        "colab": {
          "base_uri": "https://localhost:8080/"
        },
        "id": "9Ui909cPF2qq",
        "outputId": "1471e02f-f010-46f6-f3dd-a98522e4a58b"
      },
      "execution_count": 7,
      "outputs": [
        {
          "output_type": "stream",
          "name": "stdout",
          "text": [
            "Epoch 1/5\n",
            "1875/1875 [==============================] - 10s 4ms/step - loss: 0.1567 - val_loss: 0.1274\n",
            "Epoch 2/5\n",
            "1875/1875 [==============================] - 6s 3ms/step - loss: 0.1242 - val_loss: 0.1197\n",
            "Epoch 3/5\n",
            "1875/1875 [==============================] - 6s 3ms/step - loss: 0.1187 - val_loss: 0.1154\n",
            "Epoch 4/5\n",
            "1875/1875 [==============================] - 6s 3ms/step - loss: 0.1156 - val_loss: 0.1131\n",
            "Epoch 5/5\n",
            "1875/1875 [==============================] - 6s 3ms/step - loss: 0.1135 - val_loss: 0.1118\n"
          ]
        },
        {
          "output_type": "execute_result",
          "data": {
            "text/plain": [
              "<keras.src.callbacks.History at 0x794a545c6ec0>"
            ]
          },
          "metadata": {},
          "execution_count": 7
        }
      ]
    },
    {
      "cell_type": "markdown",
      "source": [
        "# Testing"
      ],
      "metadata": {
        "id": "AmfXPAmEHL-o"
      }
    },
    {
      "cell_type": "code",
      "source": [
        "encoded_images = encoder.predict(X_test)\n",
        "encoded_images.shape"
      ],
      "metadata": {
        "colab": {
          "base_uri": "https://localhost:8080/"
        },
        "id": "AHJ2vf1xF_0j",
        "outputId": "d88fb2df-69d5-428d-8c68-29c5a0a3c8a9"
      },
      "execution_count": 11,
      "outputs": [
        {
          "output_type": "stream",
          "name": "stdout",
          "text": [
            "313/313 [==============================] - 0s 1ms/step\n"
          ]
        },
        {
          "output_type": "execute_result",
          "data": {
            "text/plain": [
              "(10000, 12)"
            ]
          },
          "metadata": {},
          "execution_count": 11
        }
      ]
    },
    {
      "cell_type": "code",
      "source": [
        "predicted_images = decoder.predict(encoded_images)"
      ],
      "metadata": {
        "colab": {
          "base_uri": "https://localhost:8080/"
        },
        "id": "96QeBWV-HRo_",
        "outputId": "22a26caa-328a-47c0-fa85-58cdf0e6f980"
      },
      "execution_count": 12,
      "outputs": [
        {
          "output_type": "stream",
          "name": "stdout",
          "text": [
            "313/313 [==============================] - 1s 2ms/step\n"
          ]
        }
      ]
    },
    {
      "cell_type": "code",
      "source": [
        "predicted_images.shape"
      ],
      "metadata": {
        "colab": {
          "base_uri": "https://localhost:8080/"
        },
        "id": "xLSA0iwwHd4s",
        "outputId": "0b2a9db4-07f1-454e-fa44-885a011b5648"
      },
      "execution_count": 13,
      "outputs": [
        {
          "output_type": "execute_result",
          "data": {
            "text/plain": [
              "(10000, 784)"
            ]
          },
          "metadata": {},
          "execution_count": 13
        }
      ]
    },
    {
      "cell_type": "markdown",
      "source": [
        "# Visualization"
      ],
      "metadata": {
        "id": "dkQG_VDXHlCQ"
      }
    },
    {
      "cell_type": "code",
      "source": [
        "import matplotlib.pyplot as plt\n",
        "\n",
        "def plot_latent_space(i):\n",
        "  f = plt.figure(figsize = (12, 6))\n",
        "  # Original\n",
        "  f.add_subplot(1, 3, 1)\n",
        "  plt.imshow(X_test[i].reshape(28, 28), cmap = \"gray\")\n",
        "\n",
        "  # Latent Space\n",
        "  f.add_subplot(1, 3, 2)\n",
        "  plt.imshow(encoded_images[i].reshape(-1, 1), cmap = \"gray\")\n",
        "\n",
        "  # Decoded\n",
        "  f.add_subplot(1, 3, 3)\n",
        "  plt.imshow(predicted_images[i].reshape(28, 28), cmap = \"gray\")\n",
        "\n",
        "plot_latent_space(1)\n",
        "plot_latent_space(2)\n",
        "plot_latent_space(3)"
      ],
      "metadata": {
        "colab": {
          "base_uri": "https://localhost:8080/",
          "height": 1000
        },
        "id": "cGPJbFykHfKN",
        "outputId": "6056b042-4504-49fe-fd8c-4704c91bb839"
      },
      "execution_count": 17,
      "outputs": [
        {
          "output_type": "display_data",
          "data": {
            "text/plain": [
              "<Figure size 1200x600 with 3 Axes>"
            ],
            "image/png": "[encoded data removed]"
          },
          "metadata": {}
        },
        {
          "output_type": "display_data",
          "data": {
            "text/plain": [
              "<Figure size 1200x600 with 3 Axes>"
            ],
            "image/png": "[encoded data removed]"
          },
          "metadata": {}
        },
        {
          "output_type": "display_data",
          "data": {
            "text/plain": [
              "<Figure size 1200x600 with 3 Axes>"
            ],
            "image/png": "[encoded data removed]"
          },
          "metadata": {}
        }
      ]
    },
    {
      "cell_type": "markdown",
      "source": [
        "# Denoising procedure"
      ],
      "metadata": {
        "id": "Kdf231X2KahN"
      }
    },
    {
      "cell_type": "code",
      "source": [
        "import numpy as np\n",
        "\n",
        "noise_factor = 0.8\n",
        "\n",
        "X_train_noisy = X_train + noise_factor * np.random.normal(size = X_train.shape)\n",
        "X_test_noisy = X_test + noise_factor * np.random.normal(size = X_test.shape)\n",
        "\n",
        "np.max(X_train_noisy)"
      ],
      "metadata": {
        "colab": {
          "base_uri": "https://localhost:8080/"
        },
        "id": "KxucutT-H84s",
        "outputId": "3b295189-649b-4c74-9b02-acdddddb00b5"
      },
      "execution_count": 39,
      "outputs": [
        {
          "output_type": "execute_result",
          "data": {
            "text/plain": [
              "5.076089928277619"
            ]
          },
          "metadata": {},
          "execution_count": 39
        }
      ]
    },
    {
      "cell_type": "code",
      "source": [
        "X_train_noisy = np.clip(X_train_noisy, 0., 1.)\n",
        "X_test_noisy = np.clip(X_test_noisy, 0., 1.)\n",
        "\n",
        "np.max(X_train_noisy)"
      ],
      "metadata": {
        "colab": {
          "base_uri": "https://localhost:8080/"
        },
        "id": "VQmybEVJK-CH",
        "outputId": "1c82063b-2431-432c-d7b3-063a32388e56"
      },
      "execution_count": 40,
      "outputs": [
        {
          "output_type": "execute_result",
          "data": {
            "text/plain": [
              "1.0"
            ]
          },
          "metadata": {},
          "execution_count": 40
        }
      ]
    },
    {
      "cell_type": "code",
      "source": [
        "plt.imshow(X_train_noisy[1].reshape(28,28), cmap=\"gray\")"
      ],
      "metadata": {
        "colab": {
          "base_uri": "https://localhost:8080/",
          "height": 447
        },
        "id": "JjyRI1NQL4Fp",
        "outputId": "d927f569-88b8-4bc3-f055-6ea7425b6a42"
      },
      "execution_count": 41,
      "outputs": [
        {
          "output_type": "execute_result",
          "data": {
            "text/plain": [
              "<matplotlib.image.AxesImage at 0x794949bc2830>"
            ]
          },
          "metadata": {},
          "execution_count": 41
        },
        {
          "output_type": "display_data",
          "data": {
            "text/plain": [
              "<Figure size 640x480 with 1 Axes>"
            ],
            "image/png": "[encoded data removed]"
          },
          "metadata": {}
        }
      ]
    },
    {
      "cell_type": "markdown",
      "source": [
        "# Denoising Model"
      ],
      "metadata": {
        "id": "YyCIks0dNd9y"
      }
    },
    {
      "cell_type": "code",
      "source": [
        "encoding_dim = 12\n",
        "\n",
        "input_img = Input(shape = (784, ))\n",
        "encoded = Dense(128, activation = \"relu\")(input_img)\n",
        "encoded = Dense(encoding_dim, activation = \"relu\")(encoded)\n",
        "\n",
        "decoded = Dense(128, activation = \"relu\")(encoded)\n",
        "decoded = Dense(784, activation = \"sigmoid\")(decoded)\n",
        "\n",
        "autoencoder = Model(input_img, decoded)\n",
        "\n",
        "encoder = Model(input_img, encoded)\n",
        "\n",
        "decoded_layer1 = autoencoder.layers[-2]\n",
        "decoded_layer2 = autoencoder.layers[-1]\n",
        "encoded_input = Input(shape=(encoding_dim,))\n",
        "decoder = Model(encoded_input, decoded_layer2(decoded_layer1(encoded_input)) )\n",
        "\n",
        "autoencoder.compile(optimizer = \"adam\", loss = \"binary_crossentropy\")\n",
        "\n",
        "autoencoder.fit(\n",
        "    X_train_noisy,\n",
        "    X_train,\n",
        "    epochs = 5,\n",
        "    validation_data = (X_test_noisy, X_test)\n",
        ")\n"
      ],
      "metadata": {
        "colab": {
          "base_uri": "https://localhost:8080/"
        },
        "id": "c5NheoTgMCvl",
        "outputId": "1bdb6a13-f30a-471a-94ca-af46f7af3bce"
      },
      "execution_count": 42,
      "outputs": [
        {
          "output_type": "stream",
          "name": "stdout",
          "text": [
            "Epoch 1/5\n",
            "1875/1875 [==============================] - 7s 3ms/step - loss: 0.2060 - val_loss: 0.1801\n",
            "Epoch 2/5\n",
            "1875/1875 [==============================] - 7s 4ms/step - loss: 0.1761 - val_loss: 0.1711\n",
            "Epoch 3/5\n",
            "1875/1875 [==============================] - 6s 3ms/step - loss: 0.1697 - val_loss: 0.1671\n",
            "Epoch 4/5\n",
            "1875/1875 [==============================] - 7s 4ms/step - loss: 0.1656 - val_loss: 0.1643\n",
            "Epoch 5/5\n",
            "1875/1875 [==============================] - 6s 3ms/step - loss: 0.1622 - val_loss: 0.1615\n"
          ]
        },
        {
          "output_type": "execute_result",
          "data": {
            "text/plain": [
              "<keras.src.callbacks.History at 0x794949b8a6e0>"
            ]
          },
          "metadata": {},
          "execution_count": 42
        }
      ]
    },
    {
      "cell_type": "code",
      "source": [
        "encoded_images = encoder.predict(X_test_noisy)\n",
        "predicted_images = decoder.predict(encoded_images)"
      ],
      "metadata": {
        "colab": {
          "base_uri": "https://localhost:8080/"
        },
        "id": "G5IMlFtFOKvG",
        "outputId": "024b98dc-5983-4abe-86b8-912c2beabbb0"
      },
      "execution_count": 43,
      "outputs": [
        {
          "output_type": "stream",
          "name": "stdout",
          "text": [
            "313/313 [==============================] - 1s 2ms/step\n",
            "313/313 [==============================] - 1s 1ms/step\n"
          ]
        }
      ]
    },
    {
      "cell_type": "code",
      "source": [
        "f = plt.figure(figsize = (10, 10))\n",
        "f.add_subplot(1, 2, 1)\n",
        "plt.imshow(X_test_noisy[10].reshape(28, 28), cmap=\"gray\")\n",
        "\n",
        "f.add_subplot(1, 2, 2)\n",
        "plt.imshow(predicted_images[10].reshape(28, 28), cmap=\"gray\")"
      ],
      "metadata": {
        "colab": {
          "base_uri": "https://localhost:8080/",
          "height": 429
        },
        "id": "CvzUWegVObOA",
        "outputId": "6c317600-88b7-4f00-c825-7f2849b01bf6"
      },
      "execution_count": 44,
      "outputs": [
        {
          "output_type": "execute_result",
          "data": {
            "text/plain": [
              "<matplotlib.image.AxesImage at 0x7949498bb040>"
            ]
          },
          "metadata": {},
          "execution_count": 44
        },
        {
          "output_type": "display_data",
          "data": {
            "text/plain": [
              "<Figure size 1000x1000 with 2 Axes>"
            ],
            "image/png": "[encoded data removed]"
          },
          "metadata": {}
        }
      ]
    },
    {
      "cell_type": "code",
      "source": [],
      "metadata": {
        "id": "aaR7wGVwOxdN"
      },
      "execution_count": 38,
      "outputs": []
    }
  ]
}