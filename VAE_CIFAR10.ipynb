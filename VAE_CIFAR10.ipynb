{
  "nbformat": 4,
  "nbformat_minor": 0,
  "metadata": {
    "colab": {
      "provenance": [],
      "gpuType": "T4",
      "authorship_tag": "ABX9TyMMMV1hiAz202mibEuNAN99",
      "include_colab_link": true
    },
    "kernelspec": {
      "name": "python3",
      "display_name": "Python 3"
    },
    "language_info": {
      "name": "python"
    },
    "accelerator": "GPU"
  },
  "cells": [
    {
      "cell_type": "markdown",
      "metadata": {
        "id": "view-in-github",
        "colab_type": "text"
      },
      "source": [
        "<a href=\"https://colab.research.google.com/github/Ivanrs297/generative-deep-learning-course/blob/main/VAE_CIFAR10.ipynb\" target=\"_parent\"><img src=\"https://colab.research.google.com/assets/colab-badge.svg\" alt=\"Open In Colab\"/></a>"
      ]
    },
    {
      "cell_type": "code",
      "execution_count": 27,
      "metadata": {
        "id": "tr3XtN17d_BW"
      },
      "outputs": [],
      "source": [
        "from tensorflow.keras.layers import Lambda, Input, Dense, Conv2D, Conv2DTranspose, Flatten, Reshape\n",
        "from tensorflow.keras.models import Model\n",
        "from tensorflow.keras.datasets import cifar10\n",
        "from tensorflow.keras.losses import binary_crossentropy, mean_squared_error\n",
        "from tensorflow.keras import backend as K\n",
        "import numpy as np"
      ]
    },
    {
      "cell_type": "code",
      "source": [
        "(x_train, y_train), (x_test, y_test) = cifar10.load_data()\n"
      ],
      "metadata": {
        "colab": {
          "base_uri": "https://localhost:8080/"
        },
        "id": "yABcU7gOeIME",
        "outputId": "cb2daa48-a077-4b3a-dbb7-f40fd29d8961"
      },
      "execution_count": 2,
      "outputs": [
        {
          "output_type": "stream",
          "name": "stdout",
          "text": [
            "Downloading data from https://www.cs.toronto.edu/~kriz/cifar-10-python.tar.gz\n",
            "170498071/170498071 [==============================] - 4s 0us/step\n"
          ]
        }
      ]
    },
    {
      "cell_type": "code",
      "source": [
        "x_train.shape"
      ],
      "metadata": {
        "colab": {
          "base_uri": "https://localhost:8080/"
        },
        "id": "QeywRnzNegiD",
        "outputId": "eb9beb31-deb3-42c4-d883-7f2e8c46d7d7"
      },
      "execution_count": 4,
      "outputs": [
        {
          "output_type": "execute_result",
          "data": {
            "text/plain": [
              "(50000, 32, 32, 3)"
            ]
          },
          "metadata": {},
          "execution_count": 4
        }
      ]
    },
    {
      "cell_type": "code",
      "source": [
        "32*32*3"
      ],
      "metadata": {
        "colab": {
          "base_uri": "https://localhost:8080/"
        },
        "id": "Dqa2N1vGejy4",
        "outputId": "e32ac9fd-fbfd-4ba3-90ca-7c048e1fdaf8"
      },
      "execution_count": 5,
      "outputs": [
        {
          "output_type": "execute_result",
          "data": {
            "text/plain": [
              "3072"
            ]
          },
          "metadata": {},
          "execution_count": 5
        }
      ]
    },
    {
      "cell_type": "code",
      "source": [
        "x_train.shape[1:]"
      ],
      "metadata": {
        "colab": {
          "base_uri": "https://localhost:8080/"
        },
        "id": "k_7k3xgcfBHH",
        "outputId": "38a5682e-e720-4806-884d-2cd44892f4ba"
      },
      "execution_count": 7,
      "outputs": [
        {
          "output_type": "execute_result",
          "data": {
            "text/plain": [
              "(32, 32, 3)"
            ]
          },
          "metadata": {},
          "execution_count": 7
        }
      ]
    },
    {
      "cell_type": "code",
      "source": [
        "x_train = x_train.astype(\"float32\") / 255\n",
        "x_test = x_test.astype(\"float32\") / 255"
      ],
      "metadata": {
        "id": "mPZRa9EgeRaW"
      },
      "execution_count": 3,
      "outputs": []
    },
    {
      "cell_type": "code",
      "source": [
        "input_shape = x_train.shape[1:]\n",
        "batch_size = 128\n",
        "latent_dim = 64\n",
        "epochs = 5"
      ],
      "metadata": {
        "id": "_gewzUOxeYl7"
      },
      "execution_count": 8,
      "outputs": []
    },
    {
      "cell_type": "code",
      "source": [
        "inputs = Input(shape = input_shape, name = \"encoder_input\")\n",
        "x = Conv2D(32, 3, activation = \"relu\", strides = 2, padding = \"same\")(inputs)\n",
        "x = Conv2D(64, 3, activation = \"relu\", strides = 2, padding =  \"same\")(x)\n",
        "\n",
        "shape_before_flat = K.int_shape(x)\n",
        "\n",
        "x = Flatten()(x)\n",
        "x = Dense(256, activation = \"relu\" )(x)\n",
        "\n",
        "z_mean = Dense(latent_dim, name='z_mean')(x)\n",
        "z_log_var = Dense(latent_dim, name='z_log_var')(x)\n"
      ],
      "metadata": {
        "id": "aEip9LhbexHR"
      },
      "execution_count": 11,
      "outputs": []
    },
    {
      "cell_type": "code",
      "source": [
        "shape_before_flat"
      ],
      "metadata": {
        "colab": {
          "base_uri": "https://localhost:8080/"
        },
        "id": "lCcAC5RRgdZD",
        "outputId": "15c696bd-bf49-4acc-d05a-82fd4b785d1e"
      },
      "execution_count": 12,
      "outputs": [
        {
          "output_type": "execute_result",
          "data": {
            "text/plain": [
              "(None, 8, 8, 64)"
            ]
          },
          "metadata": {},
          "execution_count": 12
        }
      ]
    },
    {
      "cell_type": "code",
      "source": [
        "8*8*64"
      ],
      "metadata": {
        "colab": {
          "base_uri": "https://localhost:8080/"
        },
        "id": "a6l8HDeKgaa5",
        "outputId": "ce45bbea-abca-4e15-da4a-cb4e082f9e22"
      },
      "execution_count": 13,
      "outputs": [
        {
          "output_type": "execute_result",
          "data": {
            "text/plain": [
              "4096"
            ]
          },
          "metadata": {},
          "execution_count": 13
        }
      ]
    },
    {
      "cell_type": "code",
      "source": [
        "def sampling(args):\n",
        "  z_mean, z_log_var = args\n",
        "\n",
        "  dim = K.int_shape(z_mean)[1]\n",
        "\n",
        "  # TODO: check dimensions\n",
        "  epsilon = K.random_normal(shape = (K.shape(z_mean)[0], dim))\n",
        "\n",
        "  return z_mean + K.exp(0.5 * z_log_var) * epsilon"
      ],
      "metadata": {
        "id": "n3VL4s6yhHfY"
      },
      "execution_count": 21,
      "outputs": []
    },
    {
      "cell_type": "code",
      "source": [
        "z = Lambda(sampling, output_shape=(latent_dim,), name='z')([z_mean, z_log_var])"
      ],
      "metadata": {
        "id": "C8JxN1rsh9c7"
      },
      "execution_count": 22,
      "outputs": []
    },
    {
      "cell_type": "markdown",
      "source": [
        "# Encoder"
      ],
      "metadata": {
        "id": "3d1L8oSYjtIX"
      }
    },
    {
      "cell_type": "code",
      "source": [
        "encoder = Model(inputs, [z_mean, z_log_var, z], name='encoder')\n",
        "encoder.summary()"
      ],
      "metadata": {
        "colab": {
          "base_uri": "https://localhost:8080/"
        },
        "id": "_l50sNqAjGaK",
        "outputId": "9dcffae8-acc5-43ff-c435-3231f2b466ca"
      },
      "execution_count": 23,
      "outputs": [
        {
          "output_type": "stream",
          "name": "stdout",
          "text": [
            "Model: \"encoder\"\n",
            "__________________________________________________________________________________________________\n",
            " Layer (type)                Output Shape                 Param #   Connected to                  \n",
            "==================================================================================================\n",
            " encoder_input (InputLayer)  [(None, 32, 32, 3)]          0         []                            \n",
            "                                                                                                  \n",
            " conv2d (Conv2D)             (None, 16, 16, 32)           896       ['encoder_input[0][0]']       \n",
            "                                                                                                  \n",
            " conv2d_1 (Conv2D)           (None, 8, 8, 64)             18496     ['conv2d[0][0]']              \n",
            "                                                                                                  \n",
            " flatten (Flatten)           (None, 4096)                 0         ['conv2d_1[0][0]']            \n",
            "                                                                                                  \n",
            " dense (Dense)               (None, 256)                  1048832   ['flatten[0][0]']             \n",
            "                                                                                                  \n",
            " z_mean (Dense)              (None, 64)                   16448     ['dense[0][0]']               \n",
            "                                                                                                  \n",
            " z_log_var (Dense)           (None, 64)                   16448     ['dense[0][0]']               \n",
            "                                                                                                  \n",
            " z (Lambda)                  (None, 64)                   0         ['z_mean[0][0]',              \n",
            "                                                                     'z_log_var[0][0]']           \n",
            "                                                                                                  \n",
            "==================================================================================================\n",
            "Total params: 1101120 (4.20 MB)\n",
            "Trainable params: 1101120 (4.20 MB)\n",
            "Non-trainable params: 0 (0.00 Byte)\n",
            "__________________________________________________________________________________________________\n"
          ]
        }
      ]
    },
    {
      "cell_type": "markdown",
      "source": [
        "# Decoder"
      ],
      "metadata": {
        "id": "OSAIz9HTkGr9"
      }
    },
    {
      "cell_type": "code",
      "source": [
        "shape_before_flat"
      ],
      "metadata": {
        "colab": {
          "base_uri": "https://localhost:8080/"
        },
        "id": "q3JnyidUkqV3",
        "outputId": "e1299b33-5ae3-4774-f7c7-509f176ceb67"
      },
      "execution_count": 28,
      "outputs": [
        {
          "output_type": "execute_result",
          "data": {
            "text/plain": [
              "(None, 8, 8, 64)"
            ]
          },
          "metadata": {},
          "execution_count": 28
        }
      ]
    },
    {
      "cell_type": "code",
      "source": [
        "latent_inputs = Input(shape=(latent_dim,), name='z_sampling')\n",
        "\n",
        "# Check if work\n",
        "x = Dense(np.prod(shape_before_flat[1:]), activation = \"relu\")(latent_inputs)\n",
        "x = Reshape(shape_before_flat[1:])(x)\n",
        "x = Conv2DTranspose(64, 3, activation = \"relu\", strides = 2, padding =  \"same\")(x)\n",
        "x = Conv2DTranspose(32, 3, activation = \"relu\", strides = 2, padding = \"same\")(x)\n",
        "outputs = Conv2DTranspose(3, 3, activation = \"sigmoid\", padding = \"same\")(x)\n",
        "\n",
        "decoder = Model(latent_inputs, outputs, name='decoder')\n",
        "decoder.summary()"
      ],
      "metadata": {
        "colab": {
          "base_uri": "https://localhost:8080/"
        },
        "id": "QTBGf0BajxQ8",
        "outputId": "54e4a9e8-b15f-46fe-aa84-b91a0beb29b7"
      },
      "execution_count": 39,
      "outputs": [
        {
          "output_type": "stream",
          "name": "stdout",
          "text": [
            "Model: \"decoder\"\n",
            "_________________________________________________________________\n",
            " Layer (type)                Output Shape              Param #   \n",
            "=================================================================\n",
            " z_sampling (InputLayer)     [(None, 64)]              0         \n",
            "                                                                 \n",
            " dense_3 (Dense)             (None, 4096)              266240    \n",
            "                                                                 \n",
            " reshape_2 (Reshape)         (None, 8, 8, 64)          0         \n",
            "                                                                 \n",
            " conv2d_transpose_6 (Conv2D  (None, 16, 16, 64)        36928     \n",
            " Transpose)                                                      \n",
            "                                                                 \n",
            " conv2d_transpose_7 (Conv2D  (None, 32, 32, 32)        18464     \n",
            " Transpose)                                                      \n",
            "                                                                 \n",
            " conv2d_transpose_8 (Conv2D  (None, 32, 32, 3)         867       \n",
            " Transpose)                                                      \n",
            "                                                                 \n",
            "=================================================================\n",
            "Total params: 322499 (1.23 MB)\n",
            "Trainable params: 322499 (1.23 MB)\n",
            "Non-trainable params: 0 (0.00 Byte)\n",
            "_________________________________________________________________\n"
          ]
        }
      ]
    },
    {
      "cell_type": "code",
      "source": [
        "outputs = decoder(encoder(inputs)[2])\n",
        "vae = Model(inputs, outputs, name='vae')"
      ],
      "metadata": {
        "id": "3EK0--M4muK1"
      },
      "execution_count": 40,
      "outputs": []
    },
    {
      "cell_type": "code",
      "source": [
        "input_shape"
      ],
      "metadata": {
        "colab": {
          "base_uri": "https://localhost:8080/"
        },
        "id": "otkIfmULnhmL",
        "outputId": "a48379d1-91e1-4edf-842c-9d7059445ce3"
      },
      "execution_count": 41,
      "outputs": [
        {
          "output_type": "execute_result",
          "data": {
            "text/plain": [
              "(32, 32, 3)"
            ]
          },
          "metadata": {},
          "execution_count": 41
        }
      ]
    },
    {
      "cell_type": "code",
      "source": [
        "reconstruction_loss = mean_squared_error(K.flatten(inputs), K.flatten(outputs)) * input_shape[0] * input_shape[1]\n",
        "kl_loss = 1 + z_log_var - K.square(z_mean) - K.exp(z_log_var)\n",
        "kl_loss = K.sum(kl_loss, axis=-1)\n",
        "kl_loss *= -0.5\n",
        "vae_loss = K.mean(reconstruction_loss + kl_loss)"
      ],
      "metadata": {
        "id": "4V3R7kVym-EF"
      },
      "execution_count": 42,
      "outputs": []
    },
    {
      "cell_type": "code",
      "source": [
        "vae.add_loss(vae_loss)\n",
        "vae.compile(optimizer='adam')\n",
        "vae.summary()"
      ],
      "metadata": {
        "colab": {
          "base_uri": "https://localhost:8080/"
        },
        "id": "N9LtFviHnrK6",
        "outputId": "4fe2a492-5fa9-4e82-f52c-f6b10306d886"
      },
      "execution_count": 43,
      "outputs": [
        {
          "output_type": "stream",
          "name": "stdout",
          "text": [
            "Model: \"vae\"\n",
            "__________________________________________________________________________________________________\n",
            " Layer (type)                Output Shape                 Param #   Connected to                  \n",
            "==================================================================================================\n",
            " encoder_input (InputLayer)  [(None, 32, 32, 3)]          0         []                            \n",
            "                                                                                                  \n",
            " encoder (Functional)        [(None, 64),                 1101120   ['encoder_input[0][0]']       \n",
            "                              (None, 64),                                                         \n",
            "                              (None, 64)]                                                         \n",
            "                                                                                                  \n",
            " decoder (Functional)        (None, 32, 32, 3)            322499    ['encoder[1][2]']             \n",
            "                                                                                                  \n",
            " conv2d (Conv2D)             (None, 16, 16, 32)           896       ['encoder_input[0][0]']       \n",
            "                                                                                                  \n",
            " conv2d_1 (Conv2D)           (None, 8, 8, 64)             18496     ['conv2d[0][0]']              \n",
            "                                                                                                  \n",
            " flatten (Flatten)           (None, 4096)                 0         ['conv2d_1[0][0]']            \n",
            "                                                                                                  \n",
            " dense (Dense)               (None, 256)                  1048832   ['flatten[0][0]']             \n",
            "                                                                                                  \n",
            " tf.reshape_5 (TFOpLambda)   (None,)                      0         ['decoder[0][0]']             \n",
            "                                                                                                  \n",
            " tf.reshape_4 (TFOpLambda)   (None,)                      0         ['encoder_input[0][0]']       \n",
            "                                                                                                  \n",
            " z_log_var (Dense)           (None, 64)                   16448     ['dense[0][0]']               \n",
            "                                                                                                  \n",
            " z_mean (Dense)              (None, 64)                   16448     ['dense[0][0]']               \n",
            "                                                                                                  \n",
            " tf.convert_to_tensor_2 (TF  (None,)                      0         ['tf.reshape_5[0][0]']        \n",
            " OpLambda)                                                                                        \n",
            "                                                                                                  \n",
            " tf.cast_2 (TFOpLambda)      (None,)                      0         ['tf.reshape_4[0][0]']        \n",
            "                                                                                                  \n",
            " tf.__operators__.add_4 (TF  (None, 64)                   0         ['z_log_var[0][0]']           \n",
            " OpLambda)                                                                                        \n",
            "                                                                                                  \n",
            " tf.math.square_2 (TFOpLamb  (None, 64)                   0         ['z_mean[0][0]']              \n",
            " da)                                                                                              \n",
            "                                                                                                  \n",
            " tf.math.squared_difference  (None,)                      0         ['tf.convert_to_tensor_2[0][0]\n",
            " _2 (TFOpLambda)                                                    ',                            \n",
            "                                                                     'tf.cast_2[0][0]']           \n",
            "                                                                                                  \n",
            " tf.math.subtract_4 (TFOpLa  (None, 64)                   0         ['tf.__operators__.add_4[0][0]\n",
            " mbda)                                                              ',                            \n",
            "                                                                     'tf.math.square_2[0][0]']    \n",
            "                                                                                                  \n",
            " tf.math.exp_2 (TFOpLambda)  (None, 64)                   0         ['z_log_var[0][0]']           \n",
            "                                                                                                  \n",
            " tf.math.reduce_mean_4 (TFO  ()                           0         ['tf.math.squared_difference_2\n",
            " pLambda)                                                           [0][0]']                      \n",
            "                                                                                                  \n",
            " tf.math.subtract_5 (TFOpLa  (None, 64)                   0         ['tf.math.subtract_4[0][0]',  \n",
            " mbda)                                                               'tf.math.exp_2[0][0]']       \n",
            "                                                                                                  \n",
            " tf.math.multiply_6 (TFOpLa  ()                           0         ['tf.math.reduce_mean_4[0][0]'\n",
            " mbda)                                                              ]                             \n",
            "                                                                                                  \n",
            " tf.math.reduce_sum_2 (TFOp  (None,)                      0         ['tf.math.subtract_5[0][0]']  \n",
            " Lambda)                                                                                          \n",
            "                                                                                                  \n",
            " tf.math.multiply_7 (TFOpLa  ()                           0         ['tf.math.multiply_6[0][0]']  \n",
            " mbda)                                                                                            \n",
            "                                                                                                  \n",
            " tf.math.multiply_8 (TFOpLa  (None,)                      0         ['tf.math.reduce_sum_2[0][0]']\n",
            " mbda)                                                                                            \n",
            "                                                                                                  \n",
            " tf.__operators__.add_5 (TF  (None,)                      0         ['tf.math.multiply_7[0][0]',  \n",
            " OpLambda)                                                           'tf.math.multiply_8[0][0]']  \n",
            "                                                                                                  \n",
            " tf.math.reduce_mean_5 (TFO  ()                           0         ['tf.__operators__.add_5[0][0]\n",
            " pLambda)                                                           ']                            \n",
            "                                                                                                  \n",
            " add_loss_2 (AddLoss)        ()                           0         ['tf.math.reduce_mean_5[0][0]'\n",
            "                                                                    ]                             \n",
            "                                                                                                  \n",
            "==================================================================================================\n",
            "Total params: 1423619 (5.43 MB)\n",
            "Trainable params: 1423619 (5.43 MB)\n",
            "Non-trainable params: 0 (0.00 Byte)\n",
            "__________________________________________________________________________________________________\n"
          ]
        }
      ]
    },
    {
      "cell_type": "code",
      "source": [
        "# Train the autoencoder\n",
        "vae.fit(x_train,\n",
        "        epochs=epochs,\n",
        "        batch_size=batch_size,\n",
        "        validation_data=(x_test, None))"
      ],
      "metadata": {
        "colab": {
          "base_uri": "https://localhost:8080/"
        },
        "id": "tb3rlokyntMu",
        "outputId": "2afb8c3c-b2c6-47ca-eb27-0d38218761e5"
      },
      "execution_count": 44,
      "outputs": [
        {
          "output_type": "stream",
          "name": "stdout",
          "text": [
            "Epoch 1/5\n",
            "391/391 [==============================] - 10s 15ms/step - loss: 50.5208 - val_loss: 40.9736\n",
            "Epoch 2/5\n",
            "391/391 [==============================] - 5s 12ms/step - loss: 38.5894 - val_loss: 37.6323\n",
            "Epoch 3/5\n",
            "391/391 [==============================] - 5s 13ms/step - loss: 36.8918 - val_loss: 36.9591\n",
            "Epoch 4/5\n",
            "391/391 [==============================] - 5s 12ms/step - loss: 36.3156 - val_loss: 36.1639\n",
            "Epoch 5/5\n",
            "391/391 [==============================] - 5s 12ms/step - loss: 35.6832 - val_loss: 35.7455\n"
          ]
        },
        {
          "output_type": "execute_result",
          "data": {
            "text/plain": [
              "<keras.src.callbacks.History at 0x7f1bc3933730>"
            ]
          },
          "metadata": {},
          "execution_count": 44
        }
      ]
    },
    {
      "cell_type": "code",
      "source": [
        "_x_test = [0.8] * 64\n",
        "_x_test"
      ],
      "metadata": {
        "colab": {
          "base_uri": "https://localhost:8080/"
        },
        "id": "P2Qe0Z2mn5Zt",
        "outputId": "8a6e9a1a-6f91-4f4e-a9c3-50eeb3bd846f"
      },
      "execution_count": 52,
      "outputs": [
        {
          "output_type": "execute_result",
          "data": {
            "text/plain": [
              "[0.8,\n",
              " 0.8,\n",
              " 0.8,\n",
              " 0.8,\n",
              " 0.8,\n",
              " 0.8,\n",
              " 0.8,\n",
              " 0.8,\n",
              " 0.8,\n",
              " 0.8,\n",
              " 0.8,\n",
              " 0.8,\n",
              " 0.8,\n",
              " 0.8,\n",
              " 0.8,\n",
              " 0.8,\n",
              " 0.8,\n",
              " 0.8,\n",
              " 0.8,\n",
              " 0.8,\n",
              " 0.8,\n",
              " 0.8,\n",
              " 0.8,\n",
              " 0.8,\n",
              " 0.8,\n",
              " 0.8,\n",
              " 0.8,\n",
              " 0.8,\n",
              " 0.8,\n",
              " 0.8,\n",
              " 0.8,\n",
              " 0.8,\n",
              " 0.8,\n",
              " 0.8,\n",
              " 0.8,\n",
              " 0.8,\n",
              " 0.8,\n",
              " 0.8,\n",
              " 0.8,\n",
              " 0.8,\n",
              " 0.8,\n",
              " 0.8,\n",
              " 0.8,\n",
              " 0.8,\n",
              " 0.8,\n",
              " 0.8,\n",
              " 0.8,\n",
              " 0.8,\n",
              " 0.8,\n",
              " 0.8,\n",
              " 0.8,\n",
              " 0.8,\n",
              " 0.8,\n",
              " 0.8,\n",
              " 0.8,\n",
              " 0.8,\n",
              " 0.8,\n",
              " 0.8,\n",
              " 0.8,\n",
              " 0.8,\n",
              " 0.8,\n",
              " 0.8,\n",
              " 0.8,\n",
              " 0.8]"
            ]
          },
          "metadata": {},
          "execution_count": 52
        }
      ]
    },
    {
      "cell_type": "code",
      "source": [
        "z_sample = np.array([_x_test])\n",
        "x_decoded = decoder.predict(z_sample)"
      ],
      "metadata": {
        "colab": {
          "base_uri": "https://localhost:8080/"
        },
        "id": "Kskf5I9jpg9a",
        "outputId": "086ab615-4246-4220-f5a0-9c1a3a936148"
      },
      "execution_count": 53,
      "outputs": [
        {
          "output_type": "stream",
          "name": "stdout",
          "text": [
            "1/1 [==============================] - 0s 17ms/step\n"
          ]
        }
      ]
    },
    {
      "cell_type": "code",
      "source": [
        "x_decoded.shape"
      ],
      "metadata": {
        "colab": {
          "base_uri": "https://localhost:8080/"
        },
        "id": "1uo5H4e7puNF",
        "outputId": "cbc3119e-a7a4-4cae-a99d-efb788b31db1"
      },
      "execution_count": 54,
      "outputs": [
        {
          "output_type": "execute_result",
          "data": {
            "text/plain": [
              "(1, 32, 32, 3)"
            ]
          },
          "metadata": {},
          "execution_count": 54
        }
      ]
    },
    {
      "cell_type": "code",
      "source": [
        "import matplotlib.pyplot as plt\n",
        "\n",
        "plt.imshow(x_decoded[0])"
      ],
      "metadata": {
        "colab": {
          "base_uri": "https://localhost:8080/",
          "height": 447
        },
        "id": "IAFJm8tip0UE",
        "outputId": "00ee30fc-e9e3-4379-c10b-0b092464ba75"
      },
      "execution_count": 55,
      "outputs": [
        {
          "output_type": "execute_result",
          "data": {
            "text/plain": [
              "<matplotlib.image.AxesImage at 0x7f1b9e38fe20>"
            ]
          },
          "metadata": {},
          "execution_count": 55
        },
        {
          "output_type": "display_data",
          "data": {
            "text/plain": [
              "<Figure size 640x480 with 1 Axes>"
            ],
            "image/png": "[encoded data removed]"
          },
          "metadata": {}
        }
      ]
    },
    {
      "cell_type": "code",
      "source": [],
      "metadata": {
        "id": "HedAqb7Fp7Zl"
      },
      "execution_count": null,
      "outputs": []
    }
  ]
}