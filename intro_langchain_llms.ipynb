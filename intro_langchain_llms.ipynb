{
 "cells": [
  {
   "cell_type": "code",
   "execution_count": 1,
   "metadata": {},
   "outputs": [
    {
     "name": "stdout",
     "output_type": "stream",
     "text": [
      "Requirement already satisfied: langchain in /Users/ivanrs/opt/anaconda3/envs/iteso/lib/python3.10/site-packages (0.1.14)\n",
      "Requirement already satisfied: openai in /Users/ivanrs/opt/anaconda3/envs/iteso/lib/python3.10/site-packages (1.16.1)\n",
      "Requirement already satisfied: python-dotenv in /Users/ivanrs/opt/anaconda3/envs/iteso/lib/python3.10/site-packages (1.0.1)\n",
      "Requirement already satisfied: PyYAML>=5.3 in /Users/ivanrs/opt/anaconda3/envs/iteso/lib/python3.10/site-packages (from langchain) (6.0.1)\n",
      "Requirement already satisfied: SQLAlchemy<3,>=1.4 in /Users/ivanrs/opt/anaconda3/envs/iteso/lib/python3.10/site-packages (from langchain) (2.0.29)\n",
      "Requirement already satisfied: aiohttp<4.0.0,>=3.8.3 in /Users/ivanrs/opt/anaconda3/envs/iteso/lib/python3.10/site-packages (from langchain) (3.9.3)\n",
      "Requirement already satisfied: async-timeout<5.0.0,>=4.0.0 in /Users/ivanrs/opt/anaconda3/envs/iteso/lib/python3.10/site-packages (from langchain) (4.0.3)\n",
      "Requirement already satisfied: dataclasses-json<0.7,>=0.5.7 in /Users/ivanrs/opt/anaconda3/envs/iteso/lib/python3.10/site-packages (from langchain) (0.6.4)\n",
      "Requirement already satisfied: jsonpatch<2.0,>=1.33 in /Users/ivanrs/opt/anaconda3/envs/iteso/lib/python3.10/site-packages (from langchain) (1.33)\n",
      "Requirement already satisfied: langchain-community<0.1,>=0.0.30 in /Users/ivanrs/opt/anaconda3/envs/iteso/lib/python3.10/site-packages (from langchain) (0.0.31)\n",
      "Requirement already satisfied: langchain-core<0.2.0,>=0.1.37 in /Users/ivanrs/opt/anaconda3/envs/iteso/lib/python3.10/site-packages (from langchain) (0.1.38)\n",
      "Requirement already satisfied: langchain-text-splitters<0.1,>=0.0.1 in /Users/ivanrs/opt/anaconda3/envs/iteso/lib/python3.10/site-packages (from langchain) (0.0.1)\n",
      "Requirement already satisfied: langsmith<0.2.0,>=0.1.17 in /Users/ivanrs/opt/anaconda3/envs/iteso/lib/python3.10/site-packages (from langchain) (0.1.38)\n",
      "Requirement already satisfied: numpy<2,>=1 in /Users/ivanrs/opt/anaconda3/envs/iteso/lib/python3.10/site-packages (from langchain) (1.26.4)\n",
      "Requirement already satisfied: pydantic<3,>=1 in /Users/ivanrs/opt/anaconda3/envs/iteso/lib/python3.10/site-packages (from langchain) (2.6.4)\n",
      "Requirement already satisfied: requests<3,>=2 in /Users/ivanrs/opt/anaconda3/envs/iteso/lib/python3.10/site-packages (from langchain) (2.31.0)\n",
      "Requirement already satisfied: tenacity<9.0.0,>=8.1.0 in /Users/ivanrs/opt/anaconda3/envs/iteso/lib/python3.10/site-packages (from langchain) (8.2.3)\n",
      "Requirement already satisfied: anyio<5,>=3.5.0 in /Users/ivanrs/opt/anaconda3/envs/iteso/lib/python3.10/site-packages (from openai) (4.3.0)\n",
      "Requirement already satisfied: distro<2,>=1.7.0 in /Users/ivanrs/opt/anaconda3/envs/iteso/lib/python3.10/site-packages (from openai) (1.9.0)\n",
      "Requirement already satisfied: httpx<1,>=0.23.0 in /Users/ivanrs/opt/anaconda3/envs/iteso/lib/python3.10/site-packages (from openai) (0.27.0)\n",
      "Requirement already satisfied: sniffio in /Users/ivanrs/opt/anaconda3/envs/iteso/lib/python3.10/site-packages (from openai) (1.3.1)\n",
      "Requirement already satisfied: tqdm>4 in /Users/ivanrs/opt/anaconda3/envs/iteso/lib/python3.10/site-packages (from openai) (4.66.2)\n",
      "Requirement already satisfied: typing-extensions<5,>=4.7 in /Users/ivanrs/opt/anaconda3/envs/iteso/lib/python3.10/site-packages (from openai) (4.9.0)\n",
      "Requirement already satisfied: aiosignal>=1.1.2 in /Users/ivanrs/opt/anaconda3/envs/iteso/lib/python3.10/site-packages (from aiohttp<4.0.0,>=3.8.3->langchain) (1.3.1)\n",
      "Requirement already satisfied: attrs>=17.3.0 in /Users/ivanrs/opt/anaconda3/envs/iteso/lib/python3.10/site-packages (from aiohttp<4.0.0,>=3.8.3->langchain) (23.2.0)\n",
      "Requirement already satisfied: frozenlist>=1.1.1 in /Users/ivanrs/opt/anaconda3/envs/iteso/lib/python3.10/site-packages (from aiohttp<4.0.0,>=3.8.3->langchain) (1.4.1)\n",
      "Requirement already satisfied: multidict<7.0,>=4.5 in /Users/ivanrs/opt/anaconda3/envs/iteso/lib/python3.10/site-packages (from aiohttp<4.0.0,>=3.8.3->langchain) (6.0.5)\n",
      "Requirement already satisfied: yarl<2.0,>=1.0 in /Users/ivanrs/opt/anaconda3/envs/iteso/lib/python3.10/site-packages (from aiohttp<4.0.0,>=3.8.3->langchain) (1.9.4)\n",
      "Requirement already satisfied: idna>=2.8 in /Users/ivanrs/opt/anaconda3/envs/iteso/lib/python3.10/site-packages (from anyio<5,>=3.5.0->openai) (3.6)\n",
      "Requirement already satisfied: exceptiongroup>=1.0.2 in /Users/ivanrs/opt/anaconda3/envs/iteso/lib/python3.10/site-packages (from anyio<5,>=3.5.0->openai) (1.2.0)\n",
      "Requirement already satisfied: marshmallow<4.0.0,>=3.18.0 in /Users/ivanrs/opt/anaconda3/envs/iteso/lib/python3.10/site-packages (from dataclasses-json<0.7,>=0.5.7->langchain) (3.21.1)\n",
      "Requirement already satisfied: typing-inspect<1,>=0.4.0 in /Users/ivanrs/opt/anaconda3/envs/iteso/lib/python3.10/site-packages (from dataclasses-json<0.7,>=0.5.7->langchain) (0.9.0)\n",
      "Requirement already satisfied: certifi in /Users/ivanrs/opt/anaconda3/envs/iteso/lib/python3.10/site-packages (from httpx<1,>=0.23.0->openai) (2024.2.2)\n",
      "Requirement already satisfied: httpcore==1.* in /Users/ivanrs/opt/anaconda3/envs/iteso/lib/python3.10/site-packages (from httpx<1,>=0.23.0->openai) (1.0.5)\n",
      "Requirement already satisfied: h11<0.15,>=0.13 in /Users/ivanrs/opt/anaconda3/envs/iteso/lib/python3.10/site-packages (from httpcore==1.*->httpx<1,>=0.23.0->openai) (0.14.0)\n",
      "Requirement already satisfied: jsonpointer>=1.9 in /Users/ivanrs/opt/anaconda3/envs/iteso/lib/python3.10/site-packages (from jsonpatch<2.0,>=1.33->langchain) (2.4)\n",
      "Requirement already satisfied: packaging<24.0,>=23.2 in /Users/ivanrs/opt/anaconda3/envs/iteso/lib/python3.10/site-packages (from langchain-core<0.2.0,>=0.1.37->langchain) (23.2)\n",
      "Requirement already satisfied: orjson<4.0.0,>=3.9.14 in /Users/ivanrs/opt/anaconda3/envs/iteso/lib/python3.10/site-packages (from langsmith<0.2.0,>=0.1.17->langchain) (3.10.0)\n",
      "Requirement already satisfied: annotated-types>=0.4.0 in /Users/ivanrs/opt/anaconda3/envs/iteso/lib/python3.10/site-packages (from pydantic<3,>=1->langchain) (0.6.0)\n",
      "Requirement already satisfied: pydantic-core==2.16.3 in /Users/ivanrs/opt/anaconda3/envs/iteso/lib/python3.10/site-packages (from pydantic<3,>=1->langchain) (2.16.3)\n",
      "Requirement already satisfied: charset-normalizer<4,>=2 in /Users/ivanrs/opt/anaconda3/envs/iteso/lib/python3.10/site-packages (from requests<3,>=2->langchain) (3.3.2)\n",
      "Requirement already satisfied: urllib3<3,>=1.21.1 in /Users/ivanrs/opt/anaconda3/envs/iteso/lib/python3.10/site-packages (from requests<3,>=2->langchain) (2.2.0)\n",
      "Requirement already satisfied: greenlet!=0.4.17 in /Users/ivanrs/opt/anaconda3/envs/iteso/lib/python3.10/site-packages (from SQLAlchemy<3,>=1.4->langchain) (3.0.3)\n",
      "Requirement already satisfied: mypy-extensions>=0.3.0 in /Users/ivanrs/opt/anaconda3/envs/iteso/lib/python3.10/site-packages (from typing-inspect<1,>=0.4.0->dataclasses-json<0.7,>=0.5.7->langchain) (1.0.0)\n"
     ]
    }
   ],
   "source": [
    "!pip install langchain openai python-dotenv"
   ]
  },
  {
   "cell_type": "code",
   "execution_count": 2,
   "metadata": {},
   "outputs": [],
   "source": [
    "from dotenv import load_dotenv, find_dotenv\n",
    "\n",
    "_ = load_dotenv(find_dotenv())"
   ]
  },
  {
   "cell_type": "code",
   "execution_count": 3,
   "metadata": {},
   "outputs": [],
   "source": [
    "from langchain.chat_models import ChatOpenAI\n",
    "from langchain.chains import ConversationChain"
   ]
  },
  {
   "cell_type": "code",
   "execution_count": 5,
   "metadata": {},
   "outputs": [],
   "source": [
    "llm = ChatOpenAI(\n",
    "    temperature=0.0,\n",
    "    model = \"gpt-3.5-turbo-0125\",\n",
    ")\n",
    "\n",
    "conversation = ConversationChain(\n",
    "    llm = llm\n",
    ")"
   ]
  },
  {
   "cell_type": "code",
   "execution_count": 6,
   "metadata": {},
   "outputs": [
    {
     "data": {
      "text/plain": [
       "'¡Hola! ¿Cómo estás hoy?'"
      ]
     },
     "execution_count": 6,
     "metadata": {},
     "output_type": "execute_result"
    }
   ],
   "source": [
    "conversation.predict(input = \"hola\")"
   ]
  },
  {
   "cell_type": "code",
   "execution_count": 7,
   "metadata": {},
   "outputs": [
    {
     "data": {
      "text/plain": [
       "'En una taza de café caliente,\\nse esconde el aroma más embriagante.\\nSus notas amargas y dulces se entrelazan,\\nen cada sorbo una nueva esperanza.\\n\\nEl café negro como la noche,\\ndespierta mis sentidos con su derroche.\\nEn cada grano una historia se esconde,\\nen cada taza un mundo se responde.\\n\\nEl vapor que se eleva con gracia,\\nme transporta a un lugar de paz y gracia.\\nEl café, mi fiel compañero de vida,\\nen cada sorbo una nueva bienvenida.\\n\\nEspero que te haya gustado mi poema sobre el café. ¿Hay algo más en lo que pueda ayudarte?'"
      ]
     },
     "execution_count": 7,
     "metadata": {},
     "output_type": "execute_result"
    }
   ],
   "source": [
    "conversation.predict(input = \"Dame un poema sobre cafe\")"
   ]
  },
  {
   "cell_type": "code",
   "execution_count": 8,
   "metadata": {},
   "outputs": [],
   "source": [
    "!pip install --upgrade --quiet langchain-together"
   ]
  },
  {
   "cell_type": "code",
   "execution_count": 15,
   "metadata": {},
   "outputs": [],
   "source": [
    "from langchain_together import Together\n",
    "\n",
    "llm = Together(\n",
    "    model=\"mistralai/Mixtral-8x7B-Instruct-v0.1\",\n",
    "    temperature=0.0,\n",
    "    max_tokens=128,\n",
    "    top_k=1,\n",
    "    together_api_key=\"\"\n",
    ")"
   ]
  },
  {
   "cell_type": "code",
   "execution_count": 18,
   "metadata": {},
   "outputs": [
    {
     "name": "stdout",
     "output_type": "stream",
     "text": [
      " de salmón y aguacate, por favor.\n",
      "\n",
      "¡Claro! Aquí tienes una receta sencilla de sushi de salmón y aguacate:\n",
      "\n",
      "Ingredientes:\n",
      "\n",
      "* 2 tazas de arroz para sushi\n",
      "* 3 1/2 tazas de agua\n",
      "* 1/2 taza de vinagre de arroz\n",
      "* 2 cucharadas de azúcar\n",
      "* 1 cucharadita de sal\n",
      "* 4 láminas de alga nor\n"
     ]
    }
   ],
   "source": [
    "input_ = \"\"\"Hola, dame una receta de sushi\"\"\"\n",
    "print(llm.invoke(input_))"
   ]
  },
  {
   "cell_type": "code",
   "execution_count": null,
   "metadata": {},
   "outputs": [],
   "source": []
  }
 ],
 "metadata": {
  "kernelspec": {
   "display_name": "iteso",
   "language": "python",
   "name": "python3"
  },
  "language_info": {
   "codemirror_mode": {
    "name": "ipython",
    "version": 3
   },
   "file_extension": ".py",
   "mimetype": "text/x-python",
   "name": "python",
   "nbconvert_exporter": "python",
   "pygments_lexer": "ipython3",
   "version": "3.10.13"
  }
 },
 "nbformat": 4,
 "nbformat_minor": 2
}
